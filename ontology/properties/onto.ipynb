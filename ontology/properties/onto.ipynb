{
 "cells": [
  {
   "cell_type": "code",
   "execution_count": 1,
   "metadata": {},
   "outputs": [],
   "source": [
    "import owlready2 as owl\n",
    "import logging\n",
    "import os\n",
    "from pathlib import Path"
   ]
  },
  {
   "cell_type": "code",
   "execution_count": 2,
   "metadata": {},
   "outputs": [
    {
     "name": "stderr",
     "output_type": "stream",
     "text": [
      "INFO:__main__:Loading ontology from /Users/MikeFitzgerald/plant_owl/mx_ontology.owl\n"
     ]
    }
   ],
   "source": [
    "# Set up logging (optional but helpful)\n",
    "logging.basicConfig(level=logging.INFO)\n",
    "logger = logging.getLogger(__name__)\n",
    "\n",
    "# 1. Load the ontology - using absolute path\n",
    "# Method 1: Using current working directory\n",
    "current_dir = os.getcwd()\n",
    "onto_path = Path(current_dir) / \"mx_ontology.owl\"  # Adjust filename as needed\n",
    "logger.info(f\"Loading ontology from {onto_path}\")"
   ]
  },
  {
   "cell_type": "code",
   "execution_count": 3,
   "metadata": {},
   "outputs": [],
   "source": [
    "# Ensure path exists\n",
    "if not onto_path.exists():\n",
    "    raise FileNotFoundError(f\"Ontology file not found at {onto_path}\")"
   ]
  },
  {
   "cell_type": "code",
   "execution_count": 4,
   "metadata": {},
   "outputs": [],
   "source": [
    "# Create world instance and load ontology\n",
    "world = owl.World()\n",
    "onto = world.get_ontology(onto_path.absolute().as_uri()).load()"
   ]
  },
  {
   "cell_type": "code",
   "execution_count": 5,
   "metadata": {},
   "outputs": [
    {
     "name": "stdout",
     "output_type": "stream",
     "text": [
      "\n",
      "Ontology classes:\n",
      "- EventRecord\n",
      "- Plant\n",
      "- Line\n",
      "- Equipment\n",
      "- UtilizationState\n",
      "- UtilizationReason\n",
      "- TimeInterval\n",
      "- Material\n",
      "- ProductionOrder\n",
      "- Shift\n",
      "- Crew\n",
      "- PhysicalArea\n",
      "- FocusFactory\n",
      "- Country\n",
      "- StrategicLocation\n",
      "- ManufacturingAsset\n",
      "- Location\n",
      "- OrganizationalUnit\n",
      "- Division\n",
      "- SubDivision\n",
      "- GlobalHierarchyArea\n",
      "- GlobalHierarchyCategory\n",
      "- PurchasingOrganization\n",
      "- ProcessContext\n",
      "- TimeRelated\n",
      "- DowntimeState\n",
      "- RunningState\n",
      "- WaitingState\n",
      "- PlannedStopState\n",
      "- ChangeoverState\n",
      "- BusinessExternalState\n",
      "- UnknownState\n",
      "- MaintenanceReason\n",
      "- PlannedMaintenanceReason\n",
      "- AutonomousMaintenanceReason\n",
      "- UnplannedMaintenanceReason\n",
      "- ChangeoverReason\n",
      "- WaitingReason\n",
      "- OperationalReason\n",
      "- ExternalReason\n",
      "- QualityLossReason\n",
      "- SpeedLossReason\n",
      "- ProcessReason\n",
      "- ExperimentationReason\n",
      "- CleaningSanitationReason\n",
      "\n",
      "Number of EventRecords: 73\n",
      "Number of Equipment instances: 73\n"
     ]
    },
    {
     "name": "stderr",
     "output_type": "stream",
     "text": [
      "* Owlready2 * Warning: ignoring cyclic type of, involving storid 371\n",
      "\n",
      "* Owlready2 * Warning: ignoring cyclic type of, involving storid 372\n",
      "\n",
      "* Owlready2 * Warning: ignoring cyclic type of, involving storid 373\n",
      "\n",
      "* Owlready2 * Warning: ignoring cyclic type of, involving storid 374\n",
      "\n",
      "* Owlready2 * Warning: ignoring cyclic type of, involving storid 376\n",
      "\n"
     ]
    }
   ],
   "source": [
    "# 2. Basic inspection of the ontology\n",
    "print(\"\\nOntology classes:\")\n",
    "for cls in onto.classes():\n",
    "    print(f\"- {cls.name}\")\n",
    "\n",
    "print(\"\\nNumber of EventRecords:\", len(list(onto.EventRecord.instances())))\n",
    "print(\"Number of Equipment instances:\", len(list(onto.Equipment.instances())))"
   ]
  },
  {
   "cell_type": "code",
   "execution_count": null,
   "metadata": {},
   "outputs": [],
   "source": []
  }
 ],
 "metadata": {
  "kernelspec": {
   "display_name": "py313_owl",
   "language": "python",
   "name": "python3"
  },
  "language_info": {
   "codemirror_mode": {
    "name": "ipython",
    "version": 3
   },
   "file_extension": ".py",
   "mimetype": "text/x-python",
   "name": "python",
   "nbconvert_exporter": "python",
   "pygments_lexer": "ipython3",
   "version": "3.13.2"
  }
 },
 "nbformat": 4,
 "nbformat_minor": 2
}
