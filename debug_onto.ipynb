{
 "cells": [
  {
   "cell_type": "code",
   "execution_count": 1,
   "metadata": {},
   "outputs": [],
   "source": [
    "from owlready2 import *\n",
    "import matplotlib.pyplot as plt\n",
    "import pandas as pd\n",
    "import seaborn as sns\n",
    "import matplotlib.pyplot as plt"
   ]
  },
  {
   "cell_type": "code",
   "execution_count": 2,
   "metadata": {},
   "outputs": [],
   "source": [
    "ontology_file = \"test.owl\""
   ]
  },
  {
   "cell_type": "code",
   "execution_count": 3,
   "metadata": {},
   "outputs": [
    {
     "name": "stdout",
     "output_type": "stream",
     "text": [
      "Successfully loaded ontology: http://example.com/manufacturing_ontology.owl#\n"
     ]
    }
   ],
   "source": [
    "try:\n",
    "    # Load the ontology\n",
    "    onto = get_ontology(ontology_file).load()\n",
    "    print(f\"Successfully loaded ontology: {onto.base_iri}\")\n",
    "    \n",
    "    # Create the default world for SPARQL queries\n",
    "    graph = onto.world.as_rdflib_graph()\n",
    "    \n",
    "except Exception as e:\n",
    "    print(f\"Error loading ontology: {e}\")"
   ]
  },
  {
   "cell_type": "code",
   "execution_count": 11,
   "metadata": {},
   "outputs": [],
   "source": [
    "query = \"\"\"\n",
    "PREFIX test: <http://example.com/manufacturing_ontology.owl#>\n",
    "PREFIX rdf: <http://www.w3.org/1999/02/22-rdf-syntax-ns#>\n",
    "\n",
    "SELECT ?equipmentId ?equipmentName ?lineId ?equipmentClassId\n",
    "WHERE {\n",
    "  # Identify an individual piece of equipment\n",
    "  ?equipment rdf:type test:Equipment .\n",
    "\n",
    "  # Find the production line this equipment is part of\n",
    "  ?equipment test:isPartOfProductionLine ?line .\n",
    "\n",
    "  # Find the class this equipment belongs to\n",
    "  ?equipment test:memberOfClass ?equipmentClass .\n",
    "\n",
    "  # --- Retrieve Data Properties ---\n",
    "\n",
    "  # Get the unique ID for the equipment\n",
    "  ?equipment test:equipmentId ?equipmentId .\n",
    "\n",
    "  # Get the descriptive name for the equipment\n",
    "  ?equipment test:equipmentName ?equipmentName .\n",
    "\n",
    "  # Get the unique ID for the production line\n",
    "  ?line test:lineId ?lineId .\n",
    "\n",
    "  # Get the ID for the equipment class\n",
    "  ?equipmentClass test:equipmentClassId ?equipmentClassId .\n",
    "}\n",
    "ORDER BY ?lineId ?equipmentId # Optional: Order results for clarity\n",
    "\"\"\""
   ]
  },
  {
   "cell_type": "code",
   "execution_count": 12,
   "metadata": {},
   "outputs": [
    {
     "name": "stdout",
     "output_type": "stream",
     "text": [
      "Found 61 results\n"
     ]
    }
   ],
   "source": [
    "# Execute the query\n",
    "results = list(graph.query_owlready(query))\n",
    "print(f\"Found {len(results)} results\")"
   ]
  },
  {
   "cell_type": "code",
   "execution_count": 13,
   "metadata": {},
   "outputs": [
    {
     "data": {
      "text/plain": [
       "[['156.0', 'FIPCO001_Bundler', 'FIPCO001', 'FIPCO001_Bundler'],\n",
       " ['157.0', 'FIPCO001_Cartoner', 'FIPCO001', 'FIPCO001_Cartoner'],\n",
       " ['158.0', 'FIPCO001_CasePacker', 'FIPCO001', 'FIPCO001_CasePacker'],\n",
       " ['159.0', 'FIPCO001_Filler', 'FIPCO001', 'FIPCO001_Filler'],\n",
       " ['160.0', 'FIPCO001_Palletizer', 'FIPCO001', 'FIPCO001_Palletizer'],\n",
       " ['308.0', 'FIPCO001_CaseFormer2', 'FIPCO001', 'FIPCO001_CaseFormer2'],\n",
       " ['309.0', 'FIPCO001_CasePacker2', 'FIPCO001', 'FIPCO001_CasePacker2'],\n",
       " ['163.0', 'FIPCO002_Bundler', 'FIPCO002', 'FIPCO002_Bundler'],\n",
       " ['164.0', 'FIPCO002_Cartoner', 'FIPCO002', 'FIPCO002_Cartoner'],\n",
       " ['165.0', 'FIPCO002_CasePacker', 'FIPCO002', 'FIPCO002_CasePacker'],\n",
       " ['166.0', 'FIPCO002_Filler', 'FIPCO002', 'FIPCO002_Filler'],\n",
       " ['167.0', 'FIPCO002_Palletizer', 'FIPCO002', 'FIPCO002_Palletizer'],\n",
       " ['170.0', 'FIPCO003_Bundler', 'FIPCO003', 'FIPCO003_Bundler'],\n",
       " ['171.0', 'FIPCO003_Cartoner', 'FIPCO003', 'FIPCO003_Cartoner'],\n",
       " ['172.0', 'FIPCO003_CasePacker', 'FIPCO003', 'FIPCO003_CasePacker'],\n",
       " ['173.0', 'FIPCO003_Filler', 'FIPCO003', 'FIPCO003_Filler'],\n",
       " ['174.0', 'FIPCO003_Palletizer', 'FIPCO003', 'FIPCO003_Palletizer'],\n",
       " ['142.0', 'FIPCO004_Palletizer', 'FIPCO004', 'FIPCO004_Palletizer'],\n",
       " ['143.0', 'FIPCO004_Filler', 'FIPCO004', 'FIPCO004_Filler'],\n",
       " ['144.0', 'FIPCO004_Bundler', 'FIPCO004', 'FIPCO004_Bundler'],\n",
       " ['145.0', 'FIPCO004_Cartoner', 'FIPCO004', 'FIPCO004_Cartoner'],\n",
       " ['146.0', 'FIPCO004_CasePacker', 'FIPCO004', 'FIPCO004_CasePacker'],\n",
       " ['225.0', 'FIPCO006_Filler', 'FIPCO006', 'FIPCO006_Filler'],\n",
       " ['226.0', 'FIPCO006_Palletizer', 'FIPCO006', 'FIPCO006_Palletizer'],\n",
       " ['227.0', 'FIPCO006_CasePacker', 'FIPCO006', 'FIPCO006_CasePacker'],\n",
       " ['228.0', 'FIPCO006_CaseSealer', 'FIPCO006', 'FIPCO006_CaseSealer'],\n",
       " ['229.0', 'FIPCO006_CaseFormer', 'FIPCO006', 'FIPCO006_CaseFormer'],\n",
       " ['149.0', 'FIPCO009_Bundler', 'FIPCO009', 'FIPCO009_Bundler'],\n",
       " ['150.0', 'FIPCO009_Cartoner', 'FIPCO009', 'FIPCO009_Cartoner'],\n",
       " ['151.0', 'FIPCO009_CasePacker', 'FIPCO009', 'FIPCO009_CasePacker'],\n",
       " ['152.0', 'FIPCO009_Filler', 'FIPCO009', 'FIPCO009_Filler'],\n",
       " ['153.0', 'FIPCO009_Palletizer', 'FIPCO009', 'FIPCO009_Palletizer'],\n",
       " ['177.0', 'FIPCO00E_Bundler', 'FIPCO00E', 'FIPCO00E_Bundler'],\n",
       " ['178.0', 'FIPCO00E_Cartoner', 'FIPCO00E', 'FIPCO00E_Cartoner'],\n",
       " ['179.0', 'FIPCO00E_CasePacker', 'FIPCO00E', 'FIPCO00E_CasePacker'],\n",
       " ['180.0', 'FIPCO00E_Filler', 'FIPCO00E', 'FIPCO00E_Filler'],\n",
       " ['181.0', 'FIPCO00E_Palletizer', 'FIPCO00E', 'FIPCO00E_Palletizer'],\n",
       " ['184.0', 'FIPCO00F_Bundler', 'FIPCO00F', 'FIPCO00F_Bundler'],\n",
       " ['185.0', 'FIPCO00F_Cartoner', 'FIPCO00F', 'FIPCO00F_Cartoner'],\n",
       " ['186.0', 'FIPCO00F_CasePacker', 'FIPCO00F', 'FIPCO00F_CasePacker'],\n",
       " ['187.0', 'FIPCO00F_Filler', 'FIPCO00F', 'FIPCO00F_Filler'],\n",
       " ['188.0', 'FIPCO00F_Palletizer', 'FIPCO00F', 'FIPCO00F_Palletizer'],\n",
       " ['191.0', 'FIPCO00G_Bundler', 'FIPCO00G', 'FIPCO00G_Bundler'],\n",
       " ['192.0', 'FIPCO00G_Cartoner', 'FIPCO00G', 'FIPCO00G_Cartoner'],\n",
       " ['193.0', 'FIPCO00G_CasePacker', 'FIPCO00G', 'FIPCO00G_CasePacker'],\n",
       " ['194.0', 'FIPCO00G_Filler', 'FIPCO00G', 'FIPCO00G_Filler'],\n",
       " ['195.0', 'FIPCO00G_Palletizer', 'FIPCO00G', 'FIPCO00G_Palletizer'],\n",
       " ['198.0', 'FIPCO00H_Bundler', 'FIPCO00H', 'FIPCO00H_Bundler'],\n",
       " ['199.0', 'FIPCO00H_Cartoner', 'FIPCO00H', 'FIPCO00H_Cartoner'],\n",
       " ['200.0', 'FIPCO00H_CasePacker', 'FIPCO00H', 'FIPCO00H_CasePacker'],\n",
       " ['201.0', 'FIPCO00H_Filler', 'FIPCO00H', 'FIPCO00H_Filler'],\n",
       " ['202.0', 'FIPCO00H_Palletizer', 'FIPCO00H', 'FIPCO00H_Palletizer'],\n",
       " ['205.0', 'FIPCO00I_Bundler', 'FIPCO00I', 'FIPCO00I_Bundler'],\n",
       " ['206.0', 'FIPCO00I_Cartoner', 'FIPCO00I', 'FIPCO00I_Cartoner'],\n",
       " ['207.0', 'FIPCO00I_CasePacker', 'FIPCO00I', 'FIPCO00I_CasePacker'],\n",
       " ['208.0', 'FIPCO00I_Filler', 'FIPCO00I', 'FIPCO00I_Filler'],\n",
       " ['209.0', 'FIPCO00I_Palletizer', 'FIPCO00I', 'FIPCO00I_Palletizer'],\n",
       " ['766.0', 'FIPCO00J_Bundler', 'FIPCO00J', 'FIPCO00J_Bundler'],\n",
       " ['767.0', 'FIPCO00J_Cartoner', 'FIPCO00J', 'FIPCO00J_Cartoner'],\n",
       " ['768.0', 'FIPCO00J_CasePacker', 'FIPCO00J', 'FIPCO00J_CasePacker'],\n",
       " ['769.0', 'FIPCO00J_Filler', 'FIPCO00J', 'FIPCO00J_Filler']]"
      ]
     },
     "execution_count": 13,
     "metadata": {},
     "output_type": "execute_result"
    }
   ],
   "source": [
    "results"
   ]
  },
  {
   "cell_type": "code",
   "execution_count": null,
   "metadata": {},
   "outputs": [],
   "source": []
  }
 ],
 "metadata": {
  "kernelspec": {
   "display_name": "pymmm_0_6_0",
   "language": "python",
   "name": "python3"
  },
  "language_info": {
   "codemirror_mode": {
    "name": "ipython",
    "version": 3
   },
   "file_extension": ".py",
   "mimetype": "text/x-python",
   "name": "python",
   "nbconvert_exporter": "python",
   "pygments_lexer": "ipython3",
   "version": "3.12.9"
  }
 },
 "nbformat": 4,
 "nbformat_minor": 2
}
